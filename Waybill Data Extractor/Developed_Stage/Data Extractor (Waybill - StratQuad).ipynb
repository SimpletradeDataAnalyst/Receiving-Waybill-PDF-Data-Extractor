{
 "cells": [
  {
   "cell_type": "code",
   "execution_count": 4,
   "metadata": {},
   "outputs": [
    {
     "name": "stdout",
     "output_type": "stream",
     "text": [
      "Requirement already satisfied: oauth2client in c:\\users\\63927\\anaconda3\\lib\\site-packages (4.1.3)Note: you may need to restart the kernel to use updated packages.\n",
      "\n",
      "Requirement already satisfied: httplib2>=0.9.1 in c:\\users\\63927\\anaconda3\\lib\\site-packages (from oauth2client) (0.20.4)\n",
      "Requirement already satisfied: six>=1.6.1 in c:\\users\\63927\\anaconda3\\lib\\site-packages (from oauth2client) (1.15.0)\n",
      "Requirement already satisfied: pyasn1-modules>=0.0.5 in c:\\users\\63927\\anaconda3\\lib\\site-packages (from oauth2client) (0.2.8)\n",
      "Requirement already satisfied: rsa>=3.1.4 in c:\\users\\63927\\anaconda3\\lib\\site-packages (from oauth2client) (4.8)\n",
      "Requirement already satisfied: pyasn1>=0.1.7 in c:\\users\\63927\\anaconda3\\lib\\site-packages (from oauth2client) (0.4.8)\n",
      "Requirement already satisfied: pyparsing!=3.0.0,!=3.0.1,!=3.0.2,!=3.0.3,<4,>=2.4.2; python_version > \"3.0\" in c:\\users\\63927\\anaconda3\\lib\\site-packages (from httplib2>=0.9.1->oauth2client) (2.4.7)\n"
     ]
    }
   ],
   "source": [
    "pip install oauth2client"
   ]
  },
  {
   "cell_type": "code",
   "execution_count": 5,
   "metadata": {},
   "outputs": [
    {
     "name": "stdout",
     "output_type": "stream",
     "text": [
      "Requirement already satisfied: gspread in c:\\users\\63927\\anaconda3\\lib\\site-packages (5.3.2)\n",
      "Requirement already satisfied: google-auth-oauthlib>=0.4.1 in c:\\users\\63927\\anaconda3\\lib\\site-packages (from gspread) (0.5.1)\n",
      "Requirement already satisfied: google-auth>=1.12.0 in c:\\users\\63927\\anaconda3\\lib\\site-packages (from gspread) (2.6.6)\n",
      "Requirement already satisfied: requests-oauthlib>=0.7.0 in c:\\users\\63927\\anaconda3\\lib\\site-packages (from google-auth-oauthlib>=0.4.1->gspread) (1.3.1)\n",
      "Requirement already satisfied: pyasn1-modules>=0.2.1 in c:\\users\\63927\\anaconda3\\lib\\site-packages (from google-auth>=1.12.0->gspread) (0.2.8)\n",
      "Requirement already satisfied: cachetools<6.0,>=2.0.0 in c:\\users\\63927\\anaconda3\\lib\\site-packages (from google-auth>=1.12.0->gspread) (5.0.0)\n",
      "Requirement already satisfied: six>=1.9.0 in c:\\users\\63927\\anaconda3\\lib\\site-packages (from google-auth>=1.12.0->gspread) (1.15.0)\n",
      "Requirement already satisfied: rsa<5,>=3.1.4; python_version >= \"3.6\" in c:\\users\\63927\\anaconda3\\lib\\site-packages (from google-auth>=1.12.0->gspread) (4.8)\n",
      "Requirement already satisfied: oauthlib>=3.0.0 in c:\\users\\63927\\anaconda3\\lib\\site-packages (from requests-oauthlib>=0.7.0->google-auth-oauthlib>=0.4.1->gspread) (3.2.0)\n",
      "Requirement already satisfied: requests>=2.0.0 in c:\\users\\63927\\anaconda3\\lib\\site-packages (from requests-oauthlib>=0.7.0->google-auth-oauthlib>=0.4.1->gspread) (2.24.0)\n",
      "Requirement already satisfied: pyasn1<0.5.0,>=0.4.6 in c:\\users\\63927\\anaconda3\\lib\\site-packages (from pyasn1-modules>=0.2.1->google-auth>=1.12.0->gspread) (0.4.8)\n",
      "Requirement already satisfied: certifi>=2017.4.17 in c:\\users\\63927\\anaconda3\\lib\\site-packages (from requests>=2.0.0->requests-oauthlib>=0.7.0->google-auth-oauthlib>=0.4.1->gspread) (2020.6.20)\n",
      "Requirement already satisfied: urllib3!=1.25.0,!=1.25.1,<1.26,>=1.21.1 in c:\\users\\63927\\anaconda3\\lib\\site-packages (from requests>=2.0.0->requests-oauthlib>=0.7.0->google-auth-oauthlib>=0.4.1->gspread) (1.25.11)\n",
      "Requirement already satisfied: chardet<4,>=3.0.2 in c:\\users\\63927\\anaconda3\\lib\\site-packages (from requests>=2.0.0->requests-oauthlib>=0.7.0->google-auth-oauthlib>=0.4.1->gspread) (3.0.4)\n",
      "Requirement already satisfied: idna<3,>=2.5 in c:\\users\\63927\\anaconda3\\lib\\site-packages (from requests>=2.0.0->requests-oauthlib>=0.7.0->google-auth-oauthlib>=0.4.1->gspread) (2.10)\n",
      "Note: you may need to restart the kernel to use updated packages.\n"
     ]
    }
   ],
   "source": [
    "pip install gspread"
   ]
  },
  {
   "cell_type": "code",
   "execution_count": 6,
   "metadata": {},
   "outputs": [
    {
     "name": "stdout",
     "output_type": "stream",
     "text": [
      "Requirement already satisfied: pyttsx3 in c:\\users\\63927\\anaconda3\\lib\\site-packages (2.90)\n",
      "Requirement already satisfied: pywin32; platform_system == \"Windows\" in c:\\users\\63927\\anaconda3\\lib\\site-packages (from pyttsx3) (227)\n",
      "Requirement already satisfied: comtypes; platform_system == \"Windows\" in c:\\users\\63927\\anaconda3\\lib\\site-packages (from pyttsx3) (1.1.7)\n",
      "Requirement already satisfied: pypiwin32; platform_system == \"Windows\" in c:\\users\\63927\\anaconda3\\lib\\site-packages (from pyttsx3) (223)\n",
      "Note: you may need to restart the kernel to use updated packages.\n"
     ]
    }
   ],
   "source": [
    "pip install pyttsx3"
   ]
  },
  {
   "cell_type": "code",
   "execution_count": 8,
   "metadata": {},
   "outputs": [],
   "source": [
    "# Importing required Libraries\n",
    "import requests\n",
    "import pdfplumber\n",
    "from oauth2client.service_account import ServiceAccountCredentials\n",
    "import gspread\n",
    "from googletrans import Translator\n",
    "import datetime\n",
    "import pyttsx3\n",
    "import tkinter as tk\n",
    "from tkinter import filedialog\n",
    "from glob import glob\n",
    "import os"
   ]
  },
  {
   "cell_type": "code",
   "execution_count": 3,
   "metadata": {},
   "outputs": [],
   "source": [
    "#Open multiple files and set engine (text to speech) properties\n",
    "multiple_files = glob (\"C:/Users/63927/Desktop/New folder/*pdf\")\n",
    "engine = pyttsx3.init ()\n",
    "engine.setProperty ('rate', 160)\n",
    "voices = engine.getProperty('voices')\n",
    "engine.setProperty('voice', voices[1].id)\n",
    "\n",
    "translater = Translator ()"
   ]
  },
  {
   "cell_type": "code",
   "execution_count": 4,
   "metadata": {},
   "outputs": [],
   "source": [
    "#Set properties for google sheet API\n",
    "scope = ['https://www.googleapis.com/auth/spreadsheets',\n",
    "        \"https://www.googleapis.com/auth/drive.file\",\n",
    "        \"https://www.googleapis.com/auth/drive\"]\n",
    "\n",
    "cred = ServiceAccountCredentials.from_json_keyfile_name('Credentials.json', scope)\n",
    "client = gspread.authorize(cred)\n",
    "python_write = client.open(\"Receiving Waybill\").worksheet(\"April 2022\")"
   ]
  },
  {
   "cell_type": "code",
   "execution_count": 19,
   "metadata": {},
   "outputs": [
    {
     "name": "stdout",
     "output_type": "stream",
     "text": [
      "C:/Users/63927/Desktop/New folder/\n",
      "Stra code: STRA-4318\n",
      "Waybill # : 3204130030\n",
      "Waybill date: 2022-04-13\n",
      "Product Name: ['脚轮-钢', '脚轮', '脚轮', '脚轮', '脚轮']\n",
      "Cargo Specification: ['34.00*50.00*10.00', '36.00*44.00*13.00', '60.00*52.00*23.00', '50.00*55.00*16.00', '32.00*45.00*16.00']\n",
      "Total Cases/Packages: ['1', '2', '1', '1', '1']\n",
      "Box/Bag KG: ['28.00', '28.00', '28.00', '26.00', '28.00']\n",
      "Total Weight: ['28.00', '56.00', '28.00', '26.00', '28.00']\n",
      "Cubic Number: ['0.02', '0.05', '0.08', '0.05', '0.03']\n",
      "*******************************************************\n",
      "['04/27/2022  11:42:36', 'STRA-4318', '3204130030', 'Yiwu', '2022-04-13', '脚轮-钢', 'Casters - Steel', '34.00*50.00*10.00', '1', '28.00', '28.00', '0.02']\n",
      "['04/27/2022  11:42:36', 'STRA-4318', '3204130030', 'Yiwu', '2022-04-13', '脚轮', 'casters', '36.00*44.00*13.00', '2', '28.00', '56.00', '0.05']\n",
      "['04/27/2022  11:42:36', 'STRA-4318', '3204130030', 'Yiwu', '2022-04-13', '脚轮', 'casters', '60.00*52.00*23.00', '1', '28.00', '28.00', '0.08']\n",
      "['04/27/2022  11:42:36', 'STRA-4318', '3204130030', 'Yiwu', '2022-04-13', '脚轮', 'casters', '50.00*55.00*16.00', '1', '26.00', '26.00', '0.05']\n",
      "['04/27/2022  11:42:36', 'STRA-4318', '3204130030', 'Yiwu', '2022-04-13', '脚轮', 'casters', '32.00*45.00*16.00', '1', '28.00', '28.00', '0.03']\n",
      "C:/Users/63927/Desktop/New folder/\n",
      "Stra code: STRA-6372\n",
      "Waybill # : 3204230100\n",
      "Waybill date: 2022-04-23\n",
      "Product Name: ['配件']\n",
      "Cargo Specification: ['169.00*54.00*54.00']\n",
      "Total Cases/Packages: ['1']\n",
      "Box/Bag KG: ['120.00']\n",
      "Total Weight: ['120.00']\n",
      "Cubic Number: ['0.50']\n",
      "*******************************************************\n",
      "['04/27/2022  11:42:43', 'STRA-6372', '3204230100', 'Yiwu', '2022-04-23', '配件', 'Accessories', '169.00*54.00*54.00', '1', '120.00', '120.00', '0.50']\n",
      "C:/Users/63927/Desktop/New folder/\n",
      "Stra code: STRA-326\n",
      "Waybill # : 3204230066\n",
      "Waybill date: 2022-04-23\n",
      "Product Name: ['铝盖', '铝盖', '铝盖']\n",
      "Cargo Specification: ['50.00*40.00*32.00', '40.00*40.00*35.00', '55.00*52.00*30.00']\n",
      "Total Cases/Packages: ['3', '3', '1']\n",
      "Box/Bag KG: ['15.00', '15.00', '20.00']\n",
      "Total Weight: ['45.00', '45.00', '20.00']\n",
      "Cubic Number: ['0.20', '0.17', '0.09']\n",
      "*******************************************************\n",
      "['04/27/2022  11:42:49', 'STRA-326', '3204230066', 'Yiwu', '2022-04-23', '铝盖', 'Aluminum cap', '50.00*40.00*32.00', '3', '15.00', '45.00', '0.20']\n",
      "['04/27/2022  11:42:49', 'STRA-326', '3204230066', 'Yiwu', '2022-04-23', '铝盖', 'Aluminum cap', '40.00*40.00*35.00', '3', '15.00', '45.00', '0.17']\n",
      "['04/27/2022  11:42:49', 'STRA-326', '3204230066', 'Yiwu', '2022-04-23', '铝盖', 'Aluminum cap', '55.00*52.00*30.00', '1', '20.00', '20.00', '0.09']\n"
     ]
    }
   ],
   "source": [
    "# Open each invoice in pdf format and print\n",
    "for i in multiple_files:\n",
    "    with pdfplumber.open (i)as pdf:\n",
    "        page = pdf.pages [0]\n",
    "        waybill = page.extract_text()\n",
    "        #print (waybill)\n",
    "        print(os.path.splitext(\"C:/Users/63927/Desktop/New folder/\")[0])\n",
    "        \n",
    "# Iterate for each invoice and do the following data cleaning and sorting      \n",
    "        \n",
    "        for row in waybill.split (\"\\n\"):\n",
    "            if row.startswith (\"箱上编号\"):\n",
    "                stra_code = row.split ()[1]\n",
    "\n",
    "        for row in waybill.split (\"\\n\"):\n",
    "            if row.endswith (\"WAYBILL DETAILS\"):\n",
    "                waybill_number = row.split ()[0]\n",
    "\n",
    "        for row in waybill.split (\"\\n\"):\n",
    "            if row.startswith (\"收货日期:\"):\n",
    "                date= row.split ()[1]\n",
    "\n",
    "\n",
    "        product_names = []\n",
    "        cargo_specifications = []\n",
    "        total_packages = []\n",
    "        boxes_bags = []\n",
    "        total_weights = []\n",
    "        cubic_numbers = []\n",
    "        remarks = []\n",
    "        values = (\"1 \",\"2 \",\"3 \", \"4 \", \"5 \", \"6 \",\"7 \",\"8 \",\"9 \",\"10 \")\n",
    "\n",
    "        for row in waybill.split (\"\\n\"):       \n",
    "            if row.startswith (values):\n",
    "                name = row.split ()[1]\n",
    "                specification = row.split ()[2]\n",
    "                packages = row.split ()[3]\n",
    "                box_bag = row.split ()[4]\n",
    "                total_weight = row.split ()[5]\n",
    "                cubic_number = row.split ()[6]\n",
    "                remark = row.split ()[-1]\n",
    "\n",
    "                product_names.append (name)\n",
    "                cargo_specifications.append (specification)\n",
    "                total_packages.append (packages)\n",
    "                boxes_bags.append (box_bag)\n",
    "                total_weights.append (total_weight)\n",
    "                cubic_numbers.append (cubic_number)\n",
    "                remarks.append (remark) \n",
    "        print (\"Stra code:\",stra_code)\n",
    "        print (\"Waybill # :\",waybill_number)\n",
    "        print (\"Waybill date:\",date)\n",
    "        print (\"Product Name:\", product_names)\n",
    "        print (\"Cargo Specification:\", cargo_specifications)\n",
    "        print (\"Total Cases/Packages:\", total_packages)\n",
    "        print (\"Box/Bag KG:\", boxes_bags)\n",
    "        print (\"Total Weight:\", total_weights)\n",
    "        print (\"Cubic Number:\", cubic_numbers)\n",
    "        print (\"*******************************************************\")  \n",
    "        \n",
    "        # Translate product names from chineese to english\n",
    "        product_names_translated = []\n",
    "        for i in product_names:\n",
    "            new = translater.translate((i), dest = \"en\")\n",
    "            product_names_translated.append (new.text)\n",
    "\n",
    "        product_names_translated\n",
    "\n",
    "        # Do final operations and append all informations from this console to google sheets\n",
    "        stra_codes = len(product_names)*(stra_code,)\n",
    "        waybill_numbers=len(product_names)*(waybill_number,)\n",
    "        dates = len(product_names)*(date,)\n",
    "        warehouse_number= waybill_number [0]\n",
    "\n",
    "        if warehouse_number== \"1\":\n",
    "            warehouse_text = \"Shishi\"\n",
    "        elif warehouse_number == \"2\":\n",
    "            warehouse_text = \"Guangzhou\"\n",
    "        else:\n",
    "            warehouse_text = \"Yiwu\"\n",
    "\n",
    "        warehouse_texts = len (product_names)*(warehouse_text,)\n",
    "\n",
    "        current_date = datetime.datetime.now()\n",
    "        current_date_str = current_date.strftime(\"%m/%d/%Y  %H:%M:%S\")\n",
    "        current_date_strs = len (product_names)*(current_date_str,)\n",
    "\n",
    "        #engine.say (\"Appending Waybill {}.\". format (i))\n",
    "        #engine.runAndWait ()\n",
    "        \n",
    "        for i in range (0,len(product_names)):\n",
    "            lst = [current_date_strs,stra_codes, waybill_numbers,warehouse_texts,dates,product_names,product_names_translated ,cargo_specifications, total_packages, boxes_bags, total_weights,cubic_numbers]\n",
    "            lst2 = []\n",
    "            lst2.append([x[i] for x in lst])\n",
    "            print (lst2[0])\n",
    "            python_write.append_row (lst2[0])\n",
    "\n",
    "        # Checking for a potential error upon running the progrma\n",
    "        if i == len (product_names)-1:\n",
    "            engine.say (\"waybill successfully appended. Thank you!\")\n",
    "            engine.runAndWait ()\n",
    "        else:\n",
    "            engine.say (\"There's an error upon running this program. Please check. Thank you!\")\n",
    "            engine.runAndWait ()\n",
    "\n",
    "            print (\"*******************************************************\")  "
   ]
  },
  {
   "cell_type": "code",
   "execution_count": 20,
   "metadata": {},
   "outputs": [
    {
     "data": {
      "text/plain": [
       "list"
      ]
     },
     "execution_count": 20,
     "metadata": {},
     "output_type": "execute_result"
    }
   ],
   "source": [
    "type (multiple_files)"
   ]
  },
  {
   "cell_type": "code",
   "execution_count": null,
   "metadata": {},
   "outputs": [],
   "source": []
  }
 ],
 "metadata": {
  "kernelspec": {
   "display_name": "Python 3",
   "language": "python",
   "name": "python3"
  },
  "language_info": {
   "codemirror_mode": {
    "name": "ipython",
    "version": 3
   },
   "file_extension": ".py",
   "mimetype": "text/x-python",
   "name": "python",
   "nbconvert_exporter": "python",
   "pygments_lexer": "ipython3",
   "version": "3.8.5"
  }
 },
 "nbformat": 4,
 "nbformat_minor": 4
}
