{
 "cells": [
  {
   "cell_type": "code",
   "execution_count": 52,
   "metadata": {},
   "outputs": [
    {
     "name": "stdout",
     "output_type": "stream",
     "text": [
      "Requirement already satisfied: oauth2client in c:\\users\\63927\\anaconda3\\lib\\site-packages (4.1.3)Note: you may need to restart the kernel to use updated packages.\n",
      "\n",
      "Requirement already satisfied: six>=1.6.1 in c:\\users\\63927\\anaconda3\\lib\\site-packages (from oauth2client) (1.15.0)\n",
      "Requirement already satisfied: pyasn1>=0.1.7 in c:\\users\\63927\\anaconda3\\lib\\site-packages (from oauth2client) (0.4.8)\n",
      "Requirement already satisfied: pyasn1-modules>=0.0.5 in c:\\users\\63927\\anaconda3\\lib\\site-packages (from oauth2client) (0.2.8)\n",
      "Requirement already satisfied: rsa>=3.1.4 in c:\\users\\63927\\anaconda3\\lib\\site-packages (from oauth2client) (4.8)\n",
      "Requirement already satisfied: httplib2>=0.9.1 in c:\\users\\63927\\anaconda3\\lib\\site-packages (from oauth2client) (0.20.4)\n",
      "Requirement already satisfied: pyparsing!=3.0.0,!=3.0.1,!=3.0.2,!=3.0.3,<4,>=2.4.2; python_version > \"3.0\" in c:\\users\\63927\\anaconda3\\lib\\site-packages (from httplib2>=0.9.1->oauth2client) (2.4.7)\n"
     ]
    }
   ],
   "source": [
    "pip install oauth2client"
   ]
  },
  {
   "cell_type": "code",
   "execution_count": null,
   "metadata": {},
   "outputs": [],
   "source": [
    "pip install gspread"
   ]
  },
  {
   "cell_type": "code",
   "execution_count": null,
   "metadata": {},
   "outputs": [],
   "source": [
    "pip install googletrans==3.1.0a0"
   ]
  },
  {
   "cell_type": "code",
   "execution_count": null,
   "metadata": {},
   "outputs": [],
   "source": [
    "pip install pyttsx3"
   ]
  },
  {
   "cell_type": "code",
   "execution_count": 51,
   "metadata": {},
   "outputs": [],
   "source": [
    "import requests\n",
    "import pdfplumber\n",
    "from oauth2client.service_account import ServiceAccountCredentials\n",
    "import gspread\n",
    "from googletrans import Translator\n",
    "import datetime\n",
    "import pyttsx3\n",
    "import tkinter as tk\n",
    "from tkinter import filedialog\n",
    "from glob import glob\n",
    "multiple_files = glob (\"C:/Users/63927/Desktop/New folder/*pdf\")\n",
    "engine = pyttsx3.init ()\n",
    "engine.setProperty ('rate', 160)\n",
    "voices = engine.getProperty('voices')\n",
    "engine.setProperty('voice', voices[1].id)\n",
    "\n",
    "translater = Translator ()"
   ]
  },
  {
   "cell_type": "code",
   "execution_count": null,
   "metadata": {},
   "outputs": [],
   "source": [
    "root = tk.Tk()\n",
    "root.withdraw()\n",
    "\n",
    "file_path = filedialog.askopenfilename()\n",
    "invoice_url = file_path"
   ]
  },
  {
   "cell_type": "code",
   "execution_count": 3,
   "metadata": {},
   "outputs": [],
   "source": [
    "invoice_url = \"C://Users//63927//Desktop//New folder/invoice.pdf\""
   ]
  },
  {
   "cell_type": "code",
   "execution_count": 4,
   "metadata": {},
   "outputs": [],
   "source": [
    "scope = ['https://www.googleapis.com/auth/spreadsheets',\n",
    "        \"https://www.googleapis.com/auth/drive.file\",\n",
    "        \"https://www.googleapis.com/auth/drive\"]\n",
    "\n",
    "cred = ServiceAccountCredentials.from_json_keyfile_name('Credentials.json', scope)\n",
    "client = gspread.authorize(cred)\n",
    "python_write = client.open(\"Receiving Waybill\").worksheet(\"April 2022\")"
   ]
  },
  {
   "cell_type": "code",
   "execution_count": 5,
   "metadata": {},
   "outputs": [],
   "source": [
    "with pdfplumber.open (invoice_url)as pdf:\n",
    "    page = pdf.pages[0]\n",
    "    waybill = page.extract_text()"
   ]
  },
  {
   "cell_type": "code",
   "execution_count": 6,
   "metadata": {},
   "outputs": [
    {
     "name": "stdout",
     "output_type": "stream",
     "text": [
      "通 达 物 流 交 货 清 单\n",
      "运单号\n",
      "3204130030 WAYBILL DETAILS\n",
      "3204130030\n",
      "广州：+86-13924091288 石狮: +86-13600719368 义乌: +86-13867932099 菲律宾: +63-9175188339 菲律宾: +63-9177081368\n",
      "Guangzhou Shishi Yiwu Philippiness Philippiness\n",
      "投诉电话: +86-13905059230 投诉电话: +63-9178516333 投诉电话: +63-9178965503 菲律宾: +63-9171183888\n",
      "China Philippiness Philippiness Philippiness\n",
      "收货日期: 2022-04-13 送货/快递编号: 214094310 客户手机: 0927-1345874 叉车服务费:\n",
      "箱上编号: STRA-4318 送货/快递人员: 会计代码: STRA 已付金额:\n",
      "客户名称: STRATQUAD 送货/快递手机: 13833816665 送货地址: 注意事项:\n",
      "RE# 品名 货物规格(CM) 总箱/包数 箱/包公斤Kg 总重量 立方数 备注\n",
      "1 脚轮-钢 34.00*50.00*10.00 1 28.00 28.00 0.02\n",
      "2 脚轮 36.00*44.00*13.00 2 28.00 56.00 0.05\n",
      "3 脚轮 60.00*52.00*23.00 1 28.00 28.00 0.08\n",
      "4 脚轮 50.00*55.00*16.00 1 26.00 26.00 0.05\n",
      "5 脚轮 32.00*45.00*16.00 1 28.00 28.00 0.03\n",
      "合计 6 166.00 0.23\n",
      "托运须知\n",
      "1.此单作为被本公司实收货物凭证。\n",
      "2.货物不可有虚报, 假报, 伪报行为, 否则由此产生的一切后果与损失, 本公司概不负责。\n",
      "3.货物不可属于易燃易爆易腐蚀等国家规定的禁运物品。\n",
      "4.易碎品请加强包装, 否则损失概不负责, 托运普通货物如有损坏或丢失，未买保险的情况下，本公司按运费三倍赔偿。\n",
      "点货助理: 施竟航2/YW002 通达收托人: 货物委托人/代表: 货物车牌号:\n",
      "此文件应爲系统生成确认.无需签名.THIS IS A COMPUTER GENERATED DOCUMENT. NO SIGNATURE REQUIRED\n"
     ]
    }
   ],
   "source": [
    "print(waybill)\n",
    "# -- print invoice in pdf listed in rows"
   ]
  },
  {
   "cell_type": "code",
   "execution_count": 24,
   "metadata": {},
   "outputs": [
    {
     "name": "stdout",
     "output_type": "stream",
     "text": [
      "Stra code: STRA-4318\n",
      "Waybill # : 3204130030\n",
      "Waybill date: 2022-04-13\n",
      "Product Name: ['脚轮-钢', '脚轮', '脚轮', '脚轮', '脚轮']\n",
      "Cargo Specification: ['34.00*50.00*10.00', '36.00*44.00*13.00', '60.00*52.00*23.00', '50.00*55.00*16.00', '32.00*45.00*16.00']\n",
      "Total Cases/Packages: ['1', '2', '1', '1', '1']\n",
      "Box/Bag KG: ['28.00', '28.00', '28.00', '26.00', '28.00']\n",
      "Total Weight: ['28.00', '56.00', '28.00', '26.00', '28.00']\n",
      "Cubic Number: ['0.02', '0.05', '0.08', '0.05', '0.03']\n"
     ]
    }
   ],
   "source": [
    "for row in waybill.split (\"\\n\"):\n",
    "    if row.startswith (\"箱上编号\"):\n",
    "        stra_code = row.split ()[1]\n",
    "\n",
    "for row in waybill.split (\"\\n\"):\n",
    "    if row.endswith (\"WAYBILL DETAILS\"):\n",
    "        waybill_number = row.split ()[0]\n",
    "\n",
    "for row in waybill.split (\"\\n\"):\n",
    "    if row.startswith (\"收货日期:\"):\n",
    "        date= row.split ()[1]\n",
    "\n",
    "\n",
    "product_names = []\n",
    "cargo_specifications = []\n",
    "total_packages = []\n",
    "boxes_bags = []\n",
    "total_weights = []\n",
    "cubic_numbers = []\n",
    "remarks = []\n",
    "values = (\"1 \",\"2 \",\"3 \", \"4 \", \"5 \", \"6 \",\"7 \",\"8 \",\"9 \",\"10 \")\n",
    "\n",
    "for row in waybill.split (\"\\n\"):\n",
    "        if row.startswith (values):\n",
    "            name = row.split ()[1]\n",
    "            specification = row.split ()[2]\n",
    "            packages = row.split ()[3]\n",
    "            box_bag = row.split ()[4]\n",
    "            total_weight = row.split ()[5]\n",
    "            cubic_number = row.split ()[6]\n",
    "            remark = row.split ()[-1]\n",
    "            \n",
    "            product_names.append (name)\n",
    "            cargo_specifications.append (specification)\n",
    "            total_packages.append (packages)\n",
    "            boxes_bags.append (box_bag)\n",
    "            total_weights.append (total_weight)\n",
    "            cubic_numbers.append (cubic_number)\n",
    "            remarks.append (remark)    \n",
    "    \n",
    "print (\"Stra code:\",stra_code)\n",
    "print (\"Waybill # :\",waybill_number)\n",
    "print (\"Waybill date:\",date)\n",
    "print (\"Product Name:\", product_names)\n",
    "print (\"Cargo Specification:\", cargo_specifications)\n",
    "print (\"Total Cases/Packages:\", total_packages)\n",
    "print (\"Box/Bag KG:\", boxes_bags)\n",
    "print (\"Total Weight:\", total_weights)\n",
    "print (\"Cubic Number:\", cubic_numbers)\n"
   ]
  },
  {
   "cell_type": "code",
   "execution_count": 8,
   "metadata": {},
   "outputs": [
    {
     "data": {
      "text/plain": [
       "['Casters - Steel', 'casters', 'casters', 'casters', 'casters']"
      ]
     },
     "execution_count": 8,
     "metadata": {},
     "output_type": "execute_result"
    }
   ],
   "source": [
    "product_names_translated = []\n",
    "for i in product_names:\n",
    "    new = translater.translate((i), dest = \"en\")\n",
    "    product_names_translated.append (new.text)\n",
    "    \n",
    "product_names_translated"
   ]
  },
  {
   "cell_type": "code",
   "execution_count": 53,
   "metadata": {},
   "outputs": [
    {
     "name": "stdout",
     "output_type": "stream",
     "text": [
      "['04/25/2022  16:07:50', 'STRA-4318', '3204130030', 'Yiwu', '2022-04-13', '脚轮-钢', 'Casters - Steel', '34.00*50.00*10.00', '1', '28.00', '28.00', '0.02']\n",
      "['04/25/2022  16:07:50', 'STRA-4318', '3204130030', 'Yiwu', '2022-04-13', '脚轮', 'casters', '36.00*44.00*13.00', '2', '28.00', '56.00', '0.05']\n",
      "['04/25/2022  16:07:50', 'STRA-4318', '3204130030', 'Yiwu', '2022-04-13', '脚轮', 'casters', '60.00*52.00*23.00', '1', '28.00', '28.00', '0.08']\n",
      "['04/25/2022  16:07:50', 'STRA-4318', '3204130030', 'Yiwu', '2022-04-13', '脚轮', 'casters', '50.00*55.00*16.00', '1', '26.00', '26.00', '0.05']\n",
      "['04/25/2022  16:07:50', 'STRA-4318', '3204130030', 'Yiwu', '2022-04-13', '脚轮', 'casters', '32.00*45.00*16.00', '1', '28.00', '28.00', '0.03']\n"
     ]
    }
   ],
   "source": [
    "stra_codes = len(product_names)*(stra_code,)\n",
    "waybill_numbers=len(product_names)*(waybill_number,)\n",
    "dates = len(product_names)*(date,)\n",
    "warehouse_number= waybill_number [0]\n",
    "\n",
    "if warehouse_number== \"1\":\n",
    "    warehouse_text = \"Shishi\"\n",
    "elif warehouse_number == \"2\":\n",
    "    warehouse_text = \"Guangzhou\"\n",
    "else:\n",
    "    warehouse_text = \"Yiwu\"\n",
    "        \n",
    "warehouse_texts = len (product_names)*(warehouse_text,)\n",
    "\n",
    "current_date = datetime.datetime.now()\n",
    "current_date_str = current_date.strftime(\"%m/%d/%Y  %H:%M:%S\")\n",
    "current_date_strs = len (product_names)*(current_date_str,)\n",
    "\n",
    "engine.say (\"Hi Sir and Mam,  Im going to append all informations for a new waybill. Please wait.\")\n",
    "engine.runAndWait ()\n",
    "for i in range (0,len(product_names)):\n",
    "    lst = [current_date_strs,stra_codes, waybill_numbers,warehouse_texts,dates,product_names,product_names_translated ,cargo_specifications, total_packages, boxes_bags, total_weights,cubic_numbers]\n",
    "    lst2 = []\n",
    "    lst2.append([x[i] for x in lst])\n",
    "    print (lst2[0])\n",
    "    python_write.append_row (lst2[0])\n",
    "\n",
    "# Checking for a potential error upon running the progrma\n",
    "if i == len (product_names)-1:\n",
    "    engine.say (\"All items are successfully appended to google sheet. Thank you!\")\n",
    "    engine.runAndWait ()\n",
    "else:\n",
    "    engine.say (\"There's an error upon running this program. Please check. Thank you!\")\n",
    "    engine.runAndWait ()\n",
    "    "
   ]
  },
  {
   "cell_type": "code",
   "execution_count": null,
   "metadata": {},
   "outputs": [],
   "source": []
  }
 ],
 "metadata": {
  "kernelspec": {
   "display_name": "Python 3",
   "language": "python",
   "name": "python3"
  },
  "language_info": {
   "codemirror_mode": {
    "name": "ipython",
    "version": 3
   },
   "file_extension": ".py",
   "mimetype": "text/x-python",
   "name": "python",
   "nbconvert_exporter": "python",
   "pygments_lexer": "ipython3",
   "version": "3.8.5"
  }
 },
 "nbformat": 4,
 "nbformat_minor": 4
}
